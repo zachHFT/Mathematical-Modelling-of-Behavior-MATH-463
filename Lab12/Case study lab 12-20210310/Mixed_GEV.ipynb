{
 "cells": [
  {
   "cell_type": "code",
   "execution_count": 1,
   "metadata": {
    "scrolled": true
   },
   "outputs": [
    {
     "ename": "KeyboardInterrupt",
     "evalue": "",
     "output_type": "error",
     "traceback": [
      "\u001b[0;31m---------------------------------------------------------------------------\u001b[0m",
      "\u001b[0;31mKeyboardInterrupt\u001b[0m                         Traceback (most recent call last)",
      "\u001b[0;32m<ipython-input-1-32950e42328d>\u001b[0m in \u001b[0;36m<module>\u001b[0;34m\u001b[0m\n\u001b[1;32m     63\u001b[0m \u001b[0mbiogeme\u001b[0m \u001b[0;34m=\u001b[0m \u001b[0mbio\u001b[0m\u001b[0;34m.\u001b[0m\u001b[0mBIOGEME\u001b[0m\u001b[0;34m(\u001b[0m\u001b[0mdatabase\u001b[0m\u001b[0;34m,\u001b[0m \u001b[0mlogprob\u001b[0m\u001b[0;34m,\u001b[0m \u001b[0mnumberOfDraws\u001b[0m \u001b[0;34m=\u001b[0m \u001b[0;36m50\u001b[0m\u001b[0;34m)\u001b[0m\u001b[0;34m\u001b[0m\u001b[0;34m\u001b[0m\u001b[0m\n\u001b[1;32m     64\u001b[0m \u001b[0mbiogeme\u001b[0m\u001b[0;34m.\u001b[0m\u001b[0mmodelName\u001b[0m \u001b[0;34m=\u001b[0m \u001b[0;34m\"Mixed GEV\"\u001b[0m\u001b[0;34m\u001b[0m\u001b[0;34m\u001b[0m\u001b[0m\n\u001b[0;32m---> 65\u001b[0;31m \u001b[0mresults\u001b[0m \u001b[0;34m=\u001b[0m \u001b[0mbiogeme\u001b[0m\u001b[0;34m.\u001b[0m\u001b[0mestimate\u001b[0m\u001b[0;34m(\u001b[0m\u001b[0malgorithm\u001b[0m \u001b[0;34m=\u001b[0m \u001b[0mnewtonTrustRegionForBiogeme\u001b[0m\u001b[0;34m)\u001b[0m\u001b[0;34m\u001b[0m\u001b[0;34m\u001b[0m\u001b[0m\n\u001b[0m\u001b[1;32m     66\u001b[0m \u001b[0;34m\u001b[0m\u001b[0m\n\u001b[1;32m     67\u001b[0m \u001b[0;31m# Results\u001b[0m\u001b[0;34m\u001b[0m\u001b[0;34m\u001b[0m\u001b[0;34m\u001b[0m\u001b[0m\n",
      "\u001b[0;32m/Library/Frameworks/Python.framework/Versions/3.7/lib/python3.7/site-packages/biogeme/biogeme.py\u001b[0m in \u001b[0;36mestimate\u001b[0;34m(self, bootstrap, algorithm, algoParameters, cfsqp_default_bounds, saveIterations, file_iterations)\u001b[0m\n\u001b[1;32m    709\u001b[0m         \u001b[0;31m#        yep.stop()\u001b[0m\u001b[0;34m\u001b[0m\u001b[0;34m\u001b[0m\u001b[0;34m\u001b[0m\u001b[0m\n\u001b[1;32m    710\u001b[0m \u001b[0;34m\u001b[0m\u001b[0m\n\u001b[0;32m--> 711\u001b[0;31m         \u001b[0moutput\u001b[0m \u001b[0;34m=\u001b[0m \u001b[0mself\u001b[0m\u001b[0;34m.\u001b[0m\u001b[0moptimize\u001b[0m\u001b[0;34m(\u001b[0m\u001b[0mself\u001b[0m\u001b[0;34m.\u001b[0m\u001b[0mbetaInitValues\u001b[0m\u001b[0;34m)\u001b[0m\u001b[0;34m\u001b[0m\u001b[0;34m\u001b[0m\u001b[0m\n\u001b[0m\u001b[1;32m    712\u001b[0m         \u001b[0mxstar\u001b[0m\u001b[0;34m,\u001b[0m \u001b[0moptimizationMessages\u001b[0m \u001b[0;34m=\u001b[0m \u001b[0moutput\u001b[0m\u001b[0;34m\u001b[0m\u001b[0;34m\u001b[0m\u001b[0m\n\u001b[1;32m    713\u001b[0m         \u001b[0;31m## Running time of the optimization algorithm\u001b[0m\u001b[0;34m\u001b[0m\u001b[0;34m\u001b[0m\u001b[0;34m\u001b[0m\u001b[0m\n",
      "\u001b[0;32m/Library/Frameworks/Python.framework/Versions/3.7/lib/python3.7/site-packages/biogeme/biogeme.py\u001b[0m in \u001b[0;36moptimize\u001b[0;34m(self, startingValues)\u001b[0m\n\u001b[1;32m    920\u001b[0m                                  \u001b[0mstartingValues\u001b[0m\u001b[0;34m,\u001b[0m\u001b[0;34m\u001b[0m\u001b[0;34m\u001b[0m\u001b[0m\n\u001b[1;32m    921\u001b[0m                                  \u001b[0mself\u001b[0m\u001b[0;34m.\u001b[0m\u001b[0mbounds\u001b[0m\u001b[0;34m,\u001b[0m\u001b[0;34m\u001b[0m\u001b[0;34m\u001b[0m\u001b[0m\n\u001b[0;32m--> 922\u001b[0;31m                                  self.algoParameters)\n\u001b[0m\u001b[1;32m    923\u001b[0m         \u001b[0;32mreturn\u001b[0m \u001b[0mresults\u001b[0m\u001b[0;34m\u001b[0m\u001b[0;34m\u001b[0m\u001b[0m\n\u001b[1;32m    924\u001b[0m \u001b[0;34m\u001b[0m\u001b[0m\n",
      "\u001b[0;32m/Library/Frameworks/Python.framework/Versions/3.7/lib/python3.7/site-packages/biogeme/optimization.py\u001b[0m in \u001b[0;36mnewtonTrustRegionForBiogeme\u001b[0;34m(fct, initBetas, bounds, parameters)\u001b[0m\n\u001b[1;32m   1351\u001b[0m                              \u001b[0meps\u001b[0m\u001b[0;34m=\u001b[0m\u001b[0mtol\u001b[0m\u001b[0;34m,\u001b[0m\u001b[0;34m\u001b[0m\u001b[0;34m\u001b[0m\u001b[0m\n\u001b[1;32m   1352\u001b[0m                              \u001b[0mdl\u001b[0m\u001b[0;34m=\u001b[0m\u001b[0mapplyDogleg\u001b[0m\u001b[0;34m,\u001b[0m\u001b[0;34m\u001b[0m\u001b[0;34m\u001b[0m\u001b[0m\n\u001b[0;32m-> 1353\u001b[0;31m                              maxiter=maxiter)\n\u001b[0m\u001b[1;32m   1354\u001b[0m \u001b[0;34m\u001b[0m\u001b[0m\n\u001b[1;32m   1355\u001b[0m \u001b[0;32mdef\u001b[0m \u001b[0mbfgs\u001b[0m\u001b[0;34m(\u001b[0m\u001b[0mH\u001b[0m\u001b[0;34m,\u001b[0m \u001b[0md\u001b[0m\u001b[0;34m,\u001b[0m \u001b[0my\u001b[0m\u001b[0;34m)\u001b[0m\u001b[0;34m:\u001b[0m\u001b[0;34m\u001b[0m\u001b[0;34m\u001b[0m\u001b[0m\n",
      "\u001b[0;32m/Library/Frameworks/Python.framework/Versions/3.7/lib/python3.7/site-packages/biogeme/optimization.py\u001b[0m in \u001b[0;36mnewtonTrustRegion\u001b[0;34m(fct, x0, delta0, eps, dl, maxiter, eta1, eta2)\u001b[0m\n\u001b[1;32m   1234\u001b[0m         \u001b[0mfct\u001b[0m\u001b[0;34m.\u001b[0m\u001b[0msetVariables\u001b[0m\u001b[0;34m(\u001b[0m\u001b[0mxc\u001b[0m\u001b[0;34m)\u001b[0m\u001b[0;34m\u001b[0m\u001b[0;34m\u001b[0m\u001b[0m\n\u001b[1;32m   1235\u001b[0m         \u001b[0;31m# Calculate the value of the function\u001b[0m\u001b[0;34m\u001b[0m\u001b[0;34m\u001b[0m\u001b[0;34m\u001b[0m\u001b[0m\n\u001b[0;32m-> 1236\u001b[0;31m         \u001b[0mfc\u001b[0m \u001b[0;34m=\u001b[0m \u001b[0mfct\u001b[0m\u001b[0;34m.\u001b[0m\u001b[0mf\u001b[0m\u001b[0;34m(\u001b[0m\u001b[0;34m)\u001b[0m\u001b[0;34m\u001b[0m\u001b[0;34m\u001b[0m\u001b[0m\n\u001b[0m\u001b[1;32m   1237\u001b[0m         \u001b[0mnfev\u001b[0m \u001b[0;34m+=\u001b[0m \u001b[0;36m1\u001b[0m\u001b[0;34m\u001b[0m\u001b[0;34m\u001b[0m\u001b[0m\n\u001b[1;32m   1238\u001b[0m         \u001b[0mnum\u001b[0m \u001b[0;34m=\u001b[0m \u001b[0mf\u001b[0m \u001b[0;34m-\u001b[0m \u001b[0mfc\u001b[0m\u001b[0;34m\u001b[0m\u001b[0;34m\u001b[0m\u001b[0m\n",
      "\u001b[0;32m/Library/Frameworks/Python.framework/Versions/3.7/lib/python3.7/site-packages/biogeme/biogeme.py\u001b[0m in \u001b[0;36mf\u001b[0;34m(self, batch)\u001b[0m\n\u001b[1;32m   1173\u001b[0m \u001b[0;34m\u001b[0m\u001b[0m\n\u001b[1;32m   1174\u001b[0m         \u001b[0;32mif\u001b[0m \u001b[0mself\u001b[0m\u001b[0;34m.\u001b[0m\u001b[0mrecalculate\u001b[0m\u001b[0;34m:\u001b[0m\u001b[0;34m\u001b[0m\u001b[0;34m\u001b[0m\u001b[0m\n\u001b[0;32m-> 1175\u001b[0;31m             \u001b[0mself\u001b[0m\u001b[0;34m.\u001b[0m\u001b[0mfv\u001b[0m \u001b[0;34m=\u001b[0m \u001b[0mself\u001b[0m\u001b[0;34m.\u001b[0m\u001b[0mlike\u001b[0m\u001b[0;34m(\u001b[0m\u001b[0mself\u001b[0m\u001b[0;34m.\u001b[0m\u001b[0mx\u001b[0m\u001b[0;34m,\u001b[0m \u001b[0mself\u001b[0m\u001b[0;34m.\u001b[0m\u001b[0mscaled\u001b[0m\u001b[0;34m,\u001b[0m \u001b[0mself\u001b[0m\u001b[0;34m.\u001b[0m\u001b[0mbatch\u001b[0m\u001b[0;34m)\u001b[0m\u001b[0;34m\u001b[0m\u001b[0;34m\u001b[0m\u001b[0m\n\u001b[0m\u001b[1;32m   1176\u001b[0m             \u001b[0mself\u001b[0m\u001b[0;34m.\u001b[0m\u001b[0mgv\u001b[0m \u001b[0;34m=\u001b[0m \u001b[0;32mNone\u001b[0m\u001b[0;34m\u001b[0m\u001b[0;34m\u001b[0m\u001b[0m\n\u001b[1;32m   1177\u001b[0m             \u001b[0mself\u001b[0m\u001b[0;34m.\u001b[0m\u001b[0mhv\u001b[0m \u001b[0;34m=\u001b[0m \u001b[0;32mNone\u001b[0m\u001b[0;34m\u001b[0m\u001b[0;34m\u001b[0m\u001b[0m\n",
      "\u001b[0;32m/Library/Frameworks/Python.framework/Versions/3.7/lib/python3.7/site-packages/biogeme/biogeme.py\u001b[0m in \u001b[0;36mcalculateLikelihood\u001b[0;34m(self, x, scaled, batch)\u001b[0m\n\u001b[1;32m    443\u001b[0m \u001b[0;34m\u001b[0m\u001b[0m\n\u001b[1;32m    444\u001b[0m         \u001b[0mself\u001b[0m\u001b[0;34m.\u001b[0m\u001b[0m_prepareDatabaseForFormula\u001b[0m\u001b[0;34m(\u001b[0m\u001b[0mbatch\u001b[0m\u001b[0;34m)\u001b[0m\u001b[0;34m\u001b[0m\u001b[0;34m\u001b[0m\u001b[0m\n\u001b[0;32m--> 445\u001b[0;31m         \u001b[0mf\u001b[0m \u001b[0;34m=\u001b[0m \u001b[0mself\u001b[0m\u001b[0;34m.\u001b[0m\u001b[0mtheC\u001b[0m\u001b[0;34m.\u001b[0m\u001b[0mcalculateLikelihood\u001b[0m\u001b[0;34m(\u001b[0m\u001b[0mx\u001b[0m\u001b[0;34m,\u001b[0m \u001b[0mself\u001b[0m\u001b[0;34m.\u001b[0m\u001b[0mfixedBetaValues\u001b[0m\u001b[0;34m)\u001b[0m\u001b[0;34m\u001b[0m\u001b[0;34m\u001b[0m\u001b[0m\n\u001b[0m\u001b[1;32m    446\u001b[0m \u001b[0;34m\u001b[0m\u001b[0m\n\u001b[1;32m    447\u001b[0m         \u001b[0mself\u001b[0m\u001b[0;34m.\u001b[0m\u001b[0mlogger\u001b[0m\u001b[0;34m.\u001b[0m\u001b[0mdetailed\u001b[0m\u001b[0;34m(\u001b[0m\u001b[0;34mf'Log likelihood (N = {self.database.getSampleSize()}): {f:10.7g}'\u001b[0m\u001b[0;34m)\u001b[0m\u001b[0;34m\u001b[0m\u001b[0;34m\u001b[0m\u001b[0m\n",
      "\u001b[0;31mKeyboardInterrupt\u001b[0m: "
     ]
    }
   ],
   "source": [
    "# Translated to .py by Meritxell Pacheco (December 2016)\n",
    "# Adapted to PandasBiogeme by Nicola Ortelli (November 2019)\n",
    "\n",
    "import pandas as pd\n",
    "import biogeme.database as db\n",
    "import biogeme.biogeme as bio\n",
    "import biogeme.models as models\n",
    "from biogeme.optimization import newtonTrustRegionForBiogeme\n",
    "from biogeme.expressions import Beta, DefineVariable, MonteCarlo, bioDraws, log\n",
    "\n",
    "df = pd.read_csv(\"swissmetro.dat\", sep = '\\t')\n",
    "database = db.Database(\"swissmetro\", df)\n",
    "\n",
    "globals().update(database.variables)\n",
    "\n",
    "# Exclude data\n",
    "exclude = (( PURPOSE != 1 ) * ( PURPOSE != 3 ) + ( CHOICE == 0 )) > 0\n",
    "database.remove(exclude)\n",
    "\n",
    "# Parameters to be estimated\n",
    "ASC_TRAIN = Beta('ASC_TRAIN',    0, None, None, 1)\n",
    "ASC_SM    = Beta('ASC_SM_mean',  0, None, None, 0)\n",
    "ASC_CAR   = Beta('ASC_CAR_mean', 0, None, None, 0)\n",
    "\n",
    "B_TIME            = Beta('B_TIME',            0, None, None, 0)\n",
    "B_TRAIN_COST_mean = Beta('B_TRAIN_COST_mean', 0, None, None, 0)\n",
    "B_TRAIN_COST_std  = Beta('B_TRAIN_COST_std',  0, None, None, 0)\n",
    "B_SM_COST_mean    = Beta('B_SM_COST_mean',    0, None, None, 0)\n",
    "B_SM_COST_std     = Beta('B_SM_COST_std',     0, None, None, 0)\n",
    "B_CAR_COST_mean   = Beta('B_CAR_COST_mean',   0, None, None, 0)\n",
    "B_CAR_COST_std    = Beta('B_CAR_COST_std',    0, None, None, 0)\n",
    "B_HE_mean         = Beta('B_HE_mean',         0, None, None, 0)\n",
    "B_HE_std          = Beta('B_HE_std',          0, None, None, 0)\n",
    "\n",
    "MU = Beta('MU', 1, None, None, 0)\n",
    "\n",
    "# Random parameters\n",
    "B_TRAIN_COST_random = B_TRAIN_COST_mean + B_TRAIN_COST_std * bioDraws('B_TRAIN_COST_random', 'NORMAL')\n",
    "B_SM_COST_random    = B_SM_COST_mean    + B_SM_COST_std    * bioDraws('B_SM_COST_random',    'NORMAL')\n",
    "B_CAR_COST_random   = B_CAR_COST_mean   + B_CAR_COST_std   * bioDraws('B_CAR_COST_random',   'NORMAL')\n",
    "B_HE_random         = B_HE_mean         + B_HE_std         * bioDraws('B_HE_random',         'NORMAL')\n",
    "\n",
    "# Definition of new variables\n",
    "TRAIN_COST = DefineVariable('TRAIN_COST', TRAIN_CO * ( GA == 0 ), database)\n",
    "SM_COST    = DefineVariable('SM_COST', SM_CO * ( GA == 0 ), database)\n",
    "\n",
    "# Utilities\n",
    "V_TRAIN = ASC_TRAIN + B_TIME * TRAIN_TT + B_TRAIN_COST_random * TRAIN_COST + B_HE_random * TRAIN_HE\n",
    "V_SM    = ASC_SM    + B_TIME * SM_TT    + B_SM_COST_random    * SM_COST    + B_HE_random * SM_HE\n",
    "V_CAR   = ASC_CAR   + B_TIME * CAR_TT   + B_CAR_COST_random   * CAR_CO\n",
    "\n",
    "V = {1: V_TRAIN, 2: V_SM, 3: V_CAR}\n",
    "av = {1: TRAIN_AV, 2: SM_AV, 3: CAR_AV}\n",
    "\n",
    "# Nests\n",
    "Existing = MU, [1, 3]\n",
    "Innovative = 1.0, [2]\n",
    "nests = Existing, Innovative\n",
    "\n",
    "# Choice model estimation\n",
    "prob = models.nested(V, av, nests, CHOICE)\n",
    "logprob = log(MonteCarlo(prob))\n",
    "biogeme = bio.BIOGEME(database, logprob, numberOfDraws = 50)\n",
    "biogeme.modelName = \"Mixed GEV\"\n",
    "results = biogeme.estimate(algorithm = newtonTrustRegionForBiogeme)\n",
    "\n",
    "# Results\n",
    "pandasResults = results.getEstimatedParameters()\n",
    "print(pandasResults)\n",
    "print(f\"Nbr of observations: {database.getNumberOfObservations()}\")\n",
    "print(f\"LL(0) = {results.data.initLogLike:.3f}\")\n",
    "print(f\"LL(beta) = {results.data.logLike:.3f}\")\n",
    "print(f\"rho bar square = {results.data.rhoBarSquare:.3g}\")\n",
    "print(f\"Output file: {results.data.htmlFileName}\")"
   ]
  },
  {
   "cell_type": "code",
   "execution_count": null,
   "metadata": {},
   "outputs": [],
   "source": []
  }
 ],
 "metadata": {
  "kernelspec": {
   "display_name": "Python 3",
   "language": "python",
   "name": "python3"
  },
  "language_info": {
   "codemirror_mode": {
    "name": "ipython",
    "version": 3
   },
   "file_extension": ".py",
   "mimetype": "text/x-python",
   "name": "python",
   "nbconvert_exporter": "python",
   "pygments_lexer": "ipython3",
   "version": "3.7.3"
  }
 },
 "nbformat": 4,
 "nbformat_minor": 2
}
