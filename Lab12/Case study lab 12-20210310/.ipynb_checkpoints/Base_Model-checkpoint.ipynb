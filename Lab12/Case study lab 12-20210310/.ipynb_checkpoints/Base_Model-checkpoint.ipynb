{
 "cells": [
  {
   "cell_type": "code",
   "execution_count": 1,
   "metadata": {},
   "outputs": [
    {
     "name": "stdout",
     "output_type": "stream",
     "text": [
      "            Value   Std err     t-test       p-value  Rob. Std err  \\\n",
      "ASC_CAR  0.189166  0.077268   2.448196  1.435734e-02      0.079763   \n",
      "ASC_SM   0.451009  0.069678   6.472745  9.623835e-11      0.093241   \n",
      "B_COST  -0.010847  0.000518 -20.929133  0.000000e+00      0.000682   \n",
      "B_HE    -0.005354  0.000964  -5.554189  2.789033e-08      0.000983   \n",
      "B_TIME  -0.012768  0.000569 -22.424043  0.000000e+00      0.001044   \n",
      "\n",
      "         Rob. t-test  Rob. p-value  \n",
      "ASC_CAR     2.371610  1.771078e-02  \n",
      "ASC_SM      4.837040  1.317869e-06  \n",
      "B_COST    -15.895905  0.000000e+00  \n",
      "B_HE       -5.445910  5.154114e-08  \n",
      "B_TIME    -12.225484  0.000000e+00  \n",
      "Nbr of observations: 6768\n",
      "LL(0) = -6964.663\n",
      "LL(beta) = -5315.386\n",
      "rho bar square = 0.236\n",
      "Output file: Base Model.html\n"
     ]
    }
   ],
   "source": [
    "# Translated to .py by Meritxell Pacheco (December 2016)\n",
    "# Adapted to PandasBiogeme by Nicola Ortelli (November 2019)\n",
    "\n",
    "import pandas as pd\n",
    "import biogeme.database as db\n",
    "import biogeme.biogeme as bio\n",
    "from biogeme.optimization import newtonTrustRegionForBiogeme\n",
    "from biogeme.expressions import Beta, DefineVariable\n",
    "from biogeme.models import loglogit\n",
    "\n",
    "df = pd.read_csv(\"swissmetro.dat\", sep = '\\t')\n",
    "database = db.Database(\"swissmetro\", df)\n",
    "\n",
    "globals().update(database.variables)\n",
    "\n",
    "# Exclude data\n",
    "exclude = (( PURPOSE != 1 ) * ( PURPOSE != 3 ) + ( CHOICE == 0 )) > 0\n",
    "database.remove(exclude)\n",
    "\n",
    "# Parameters to be estimated\n",
    "ASC_TRAIN = Beta('ASC_TRAIN', 0, None, None, 1)\n",
    "ASC_SM    = Beta('ASC_SM',    0, None, None, 0)\n",
    "ASC_CAR   = Beta('ASC_CAR',   0, None, None, 0)\n",
    "\n",
    "B_TIME = Beta('B_TIME', 0, None, None, 0)\n",
    "B_COST = Beta('B_COST', 0, None, None, 0)\n",
    "B_HE   = Beta('B_HE',   0, None, None, 0)\n",
    "\n",
    "# Definition of new variables\n",
    "TRAIN_COST = DefineVariable('TRAIN_COST', TRAIN_CO * ( GA == 0 ), database)\n",
    "SM_COST    = DefineVariable('SM_COST', SM_CO * ( GA == 0 ), database)\n",
    "\n",
    "# Utilities\n",
    "V_TRAIN = ASC_TRAIN + B_TIME * TRAIN_TT + B_COST * TRAIN_COST + B_HE * TRAIN_HE\n",
    "V_SM    = ASC_SM    + B_TIME * SM_TT    + B_COST * SM_COST    + B_HE * SM_HE\n",
    "V_CAR   = ASC_CAR   + B_TIME * CAR_TT   + B_COST * CAR_CO\n",
    "\n",
    "V = {1: V_TRAIN, 2: V_SM, 3: V_CAR}\n",
    "av = {1: TRAIN_AV, 2: SM_AV, 3: CAR_AV}\n",
    "\n",
    "# Choice model estimation\n",
    "logprob = loglogit(V, av, CHOICE)\n",
    "biogeme = bio.BIOGEME(database, logprob)\n",
    "biogeme.modelName = \"Base Model\"\n",
    "results = biogeme.estimate(algorithm = newtonTrustRegionForBiogeme)\n",
    "\n",
    "# Results\n",
    "pandasResults = results.getEstimatedParameters()\n",
    "print(pandasResults)\n",
    "print(f\"Nbr of observations: {database.getNumberOfObservations()}\")\n",
    "print(f\"LL(0) = {results.data.initLogLike:.3f}\")\n",
    "print(f\"LL(beta) = {results.data.logLike:.3f}\")\n",
    "print(f\"rho bar square = {results.data.rhoBarSquare:.3g}\")\n",
    "print(f\"Output file: {results.data.htmlFileName}\")"
   ]
  },
  {
   "cell_type": "code",
   "execution_count": null,
   "metadata": {},
   "outputs": [],
   "source": []
  }
 ],
 "metadata": {
  "kernelspec": {
   "display_name": "Python 3",
   "language": "python",
   "name": "python3"
  },
  "language_info": {
   "codemirror_mode": {
    "name": "ipython",
    "version": 3
   },
   "file_extension": ".py",
   "mimetype": "text/x-python",
   "name": "python",
   "nbconvert_exporter": "python",
   "pygments_lexer": "ipython3",
   "version": "3.7.3"
  }
 },
 "nbformat": 4,
 "nbformat_minor": 2
}
