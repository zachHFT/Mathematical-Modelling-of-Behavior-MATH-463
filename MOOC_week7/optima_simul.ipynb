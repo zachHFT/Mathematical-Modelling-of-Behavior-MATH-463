{
 "cells": [
  {
   "cell_type": "code",
   "execution_count": 13,
   "metadata": {},
   "outputs": [
    {
     "name": "stdout",
     "output_type": "stream",
     "text": [
      "Market shares for public transportation: 28.70%\n",
      "Market shares for car: 65.22%\n",
      "Market shares for slow modes: 6.08%\n"
     ]
    }
   ],
   "source": [
    "\"\"\"\n",
    "File v715_optima_simul.py\n",
    "\n",
    "Michel Bierlaire\n",
    "Mon Aug 31 14:32:54 2020\n",
    "\n",
    "\"\"\"\n",
    "import sys\n",
    "import pandas as pd\n",
    "import biogeme.database as db\n",
    "import biogeme.biogeme as bio\n",
    "import biogeme.models as models\n",
    "import biogeme.results as res\n",
    "from biogeme.expressions import Beta\n",
    "\n",
    "# Read the data\n",
    "df = pd.read_csv('optima.dat', '\\t')\n",
    "database = db.Database('optima', df)\n",
    "\n",
    "# The following statement allows you to use the names of the\n",
    "# variable as Python variable.\n",
    "globals().update(database.variables)\n",
    "\n",
    "# Define new variables\n",
    "TimePT_scaled = TimePT / 200\n",
    "TimeCar_scaled = TimeCar / 200\n",
    "MarginalCostPT_scaled = MarginalCostPT / 10\n",
    "CostCarCHF_scaled = CostCarCHF / 10\n",
    "distance_km_scaled = distance_km / 5\n",
    "male = Gender == 1\n",
    "female = Gender == 2\n",
    "unreportedGender = Gender == -1\n",
    "fulltime = OccupStat == 1\n",
    "notfulltime = OccupStat != 1\n",
    "\n",
    "# Removing some observations\n",
    "exclude = ((Choice == -1) + ((CarAvail == 3) * (Choice == 1))) != 0\n",
    "database.remove(exclude)\n",
    "\n",
    "# List of parameters to be estimated\n",
    "ASC_CAR = Beta('ASC_CAR', 0, None, None, 0)\n",
    "ASC_SM = Beta('ASC_SM', 0, None, None, 0)\n",
    "BETA_TIME_FULLTIME = Beta('BETA_TIME_FULLTIME', 0, None, None, 0)\n",
    "BETA_TIME_OTHER = Beta('BETA_TIME_OTHER', 0, None, None, 0)\n",
    "BETA_DIST_MALE = Beta('BETA_DIST_MALE', 0, None, None, 0)\n",
    "BETA_DIST_FEMALE = Beta('BETA_DIST_FEMALE', 0, None, None, 0)\n",
    "BETA_DIST_UNREPORTED = Beta('BETA_DIST_UNREPORTED', 0, None, None, 0)\n",
    "BETA_COST = Beta('BETA_COST', 0, None, None, 0)\n",
    "\n",
    "# Definition of utility functions:\n",
    "V_PT = BETA_TIME_FULLTIME * TimePT_scaled * fulltime + \\\n",
    "    BETA_TIME_OTHER * TimePT_scaled * notfulltime + \\\n",
    "    BETA_COST * MarginalCostPT_scaled\n",
    "V_CAR = ASC_CAR + \\\n",
    "    BETA_TIME_FULLTIME * TimeCar_scaled * fulltime + \\\n",
    "    BETA_TIME_OTHER * TimeCar_scaled * notfulltime + \\\n",
    "    BETA_COST * CostCarCHF_scaled\n",
    "V_SM = ASC_SM + \\\n",
    "    BETA_DIST_MALE * distance_km_scaled * male + \\\n",
    "    BETA_DIST_FEMALE * distance_km_scaled * female + \\\n",
    "    BETA_DIST_UNREPORTED * distance_km_scaled * unreportedGender\n",
    "\n",
    "# Associate utility functions with the numbering of alternatives\n",
    "V = {0: V_PT,\n",
    "     1: V_CAR,\n",
    "     2: V_SM}\n",
    "\n",
    "try:\n",
    "    m = 'v715_optima_model'\n",
    "    results = res.bioResults(pickleFile=f'{m}.pickle')\n",
    "except FileNotFoundError:\n",
    "    print(f'Run first the script {m}.py in order to generate the file '\n",
    "          '{m}.pickle.')\n",
    "    sys.exit()\n",
    "\n",
    "prob_pt = models.logit(V, None, 0)\n",
    "prob_car = models.logit(V, None, 1)\n",
    "prob_sm = models.logit(V, None, 2)\n",
    "\n",
    "simulate = {'Prob. public transp.': prob_pt,\n",
    "            'Prob. car': prob_car,\n",
    "            'Prob. slow modes': prob_sm,\n",
    "            'Weight': Weight}\n",
    "\n",
    "biosim = bio.BIOGEME(database, simulate)\n",
    "biosim.modelName = 'v715_optima_simul'\n",
    "\n",
    "# Perform the simulation\n",
    "simresults = biosim.simulate(results.getBetaValues())\n",
    "\n",
    "totalWeight = simresults['Weight'].sum()\n",
    "\n",
    "simresults['Weighted public'] = simresults['Prob. public transp.'] * simresults['Weight']\n",
    "simresults['Weighted car'] = simresults['Prob. car'] * simresults['Weight']\n",
    "simresults['Weighted slow'] = simresults['Prob. slow modes'] * simresults['Weight']\n",
    "\n",
    "\n",
    "ms_pt = simresults['Weighted public'].sum() / totalWeight\n",
    "ms_car = simresults['Weighted car'].sum() / totalWeight\n",
    "ms_sm = simresults['Weighted slow'].sum() / totalWeight\n",
    "print(f'Market shares for public transportation: {100*ms_pt:.2f}%')\n",
    "print(f'Market shares for car: {100*ms_car:.2f}%')\n",
    "print(f'Market shares for slow modes: {100*ms_sm:.2f}%')"
   ]
  },
  {
   "cell_type": "code",
   "execution_count": 14,
   "metadata": {},
   "outputs": [
    {
     "data": {
      "text/plain": [
       "0.8044510140000001"
      ]
     },
     "execution_count": 14,
     "metadata": {},
     "output_type": "execute_result"
    }
   ],
   "source": [
    "totalWeight"
   ]
  },
  {
   "cell_type": "code",
   "execution_count": 4,
   "metadata": {},
   "outputs": [
    {
     "data": {
      "text/plain": [
       "0       0.000379\n",
       "2       0.000368\n",
       "3       0.000368\n",
       "4       0.000409\n",
       "5       0.000368\n",
       "          ...   \n",
       "2259    0.000870\n",
       "2261    0.000368\n",
       "2262    0.000368\n",
       "2263    0.000409\n",
       "2264    0.000409\n",
       "Name: Weight, Length: 1899, dtype: float64"
      ]
     },
     "execution_count": 4,
     "metadata": {},
     "output_type": "execute_result"
    }
   ],
   "source": [
    "simresults['Weight']"
   ]
  },
  {
   "cell_type": "code",
   "execution_count": 5,
   "metadata": {},
   "outputs": [
    {
     "data": {
      "text/plain": [
       "0       0.477677\n",
       "2       0.276121\n",
       "3       0.110337\n",
       "4       0.075302\n",
       "5       0.253484\n",
       "          ...   \n",
       "2259    0.281685\n",
       "2261    0.138736\n",
       "2262    0.224006\n",
       "2263    0.222956\n",
       "2264    0.210227\n",
       "Name: Prob. public transp., Length: 1899, dtype: float64"
      ]
     },
     "execution_count": 5,
     "metadata": {},
     "output_type": "execute_result"
    }
   ],
   "source": [
    "simresults['Prob. public transp.']"
   ]
  },
  {
   "cell_type": "code",
   "execution_count": 6,
   "metadata": {},
   "outputs": [
    {
     "data": {
      "text/plain": [
       "0       0.000181\n",
       "2       0.000102\n",
       "3       0.000041\n",
       "4       0.000031\n",
       "5       0.000093\n",
       "          ...   \n",
       "2259    0.000245\n",
       "2261    0.000051\n",
       "2262    0.000082\n",
       "2263    0.000091\n",
       "2264    0.000086\n",
       "Name: Weighted public, Length: 1899, dtype: float64"
      ]
     },
     "execution_count": 6,
     "metadata": {},
     "output_type": "execute_result"
    }
   ],
   "source": [
    "simresults['Weighted public']"
   ]
  },
  {
   "cell_type": "code",
   "execution_count": 7,
   "metadata": {},
   "outputs": [
    {
     "data": {
      "text/plain": [
       "0.23089832631104662"
      ]
     },
     "execution_count": 7,
     "metadata": {},
     "output_type": "execute_result"
    }
   ],
   "source": [
    "simresults['Weighted public'].sum()"
   ]
  },
  {
   "cell_type": "code",
   "execution_count": 8,
   "metadata": {},
   "outputs": [
    {
     "data": {
      "text/plain": [
       "0.287025962168837"
      ]
     },
     "execution_count": 8,
     "metadata": {},
     "output_type": "execute_result"
    }
   ],
   "source": [
    "simresults['Weighted public'].sum() / totalWeight"
   ]
  },
  {
   "cell_type": "code",
   "execution_count": null,
   "metadata": {},
   "outputs": [],
   "source": []
  }
 ],
 "metadata": {
  "kernelspec": {
   "display_name": "Python 3",
   "language": "python",
   "name": "python3"
  },
  "language_info": {
   "codemirror_mode": {
    "name": "ipython",
    "version": 3
   },
   "file_extension": ".py",
   "mimetype": "text/x-python",
   "name": "python",
   "nbconvert_exporter": "python",
   "pygments_lexer": "ipython3",
   "version": "3.7.3"
  }
 },
 "nbformat": 4,
 "nbformat_minor": 4
}
