{
 "cells": [
  {
   "cell_type": "code",
   "execution_count": 1,
   "metadata": {},
   "outputs": [
    {
     "name": "stdout",
     "output_type": "stream",
     "text": [
      "                         Value   Std err     t-test       p-value  \\\n",
      "ASC_CAR               0.296341  0.087779   3.375996  7.354894e-04   \n",
      "ASC_SM               -0.020574  0.168723  -0.121937  9.029489e-01   \n",
      "BETA_COST            -0.762979  0.075582 -10.094685  0.000000e+00   \n",
      "BETA_DIST_FEMALE     -1.112262  0.136382  -8.155491  4.440892e-16   \n",
      "BETA_DIST_MALE       -0.920033  0.108435  -8.484649  0.000000e+00   \n",
      "BETA_DIST_UNREPORTED -0.912456  0.257352  -3.545550  3.917943e-04   \n",
      "BETA_TIME_FULLTIME   -1.619867  0.321095  -5.044818  4.539522e-07   \n",
      "BETA_TIME_OTHER      -0.509193  0.266876  -1.907977  5.639416e-02   \n",
      "\n",
      "                      Rob. Std err  Rob. t-test  Rob. p-value  \n",
      "ASC_CAR                   0.100041     2.962180  3.054689e-03  \n",
      "ASC_SM                    0.290873    -0.070730  9.436124e-01  \n",
      "BETA_COST                 0.140440    -5.432775  5.548434e-08  \n",
      "BETA_DIST_FEMALE          0.283604    -3.921892  8.785622e-05  \n",
      "BETA_DIST_MALE            0.270984    -3.395152  6.859049e-04  \n",
      "BETA_DIST_UNREPORTED      0.274761    -3.320912  8.972383e-04  \n",
      "BETA_TIME_FULLTIME        0.338580    -4.784292  1.715914e-06  \n",
      "BETA_TIME_OTHER           0.299345    -1.701021  8.893901e-02  \n"
     ]
    }
   ],
   "source": [
    "\"\"\"\n",
    "File v715_optimal_model.py\n",
    "\n",
    "Michel Bierlaire\n",
    "Mon Aug 17 11:44:41 2020\n",
    "\"\"\"\n",
    "import pandas as pd\n",
    "import biogeme.database as db\n",
    "import biogeme.biogeme as bio\n",
    "import biogeme.models as models\n",
    "from biogeme.expressions import Beta\n",
    "\n",
    "# Read the data\n",
    "df = pd.read_csv('optima.dat', '\\t')\n",
    "database = db.Database('boeing', df)\n",
    "\n",
    "# The following statement allows you to use the names of the\n",
    "# variable as Python variable.\n",
    "globals().update(database.variables)\n",
    "\n",
    "# Define new variables\n",
    "TimePT_scaled = TimePT / 200\n",
    "TimeCar_scaled = TimeCar / 200\n",
    "MarginalCostPT_scaled = MarginalCostPT / 10\n",
    "CostCarCHF_scaled = CostCarCHF / 10\n",
    "distance_km_scaled = distance_km / 5\n",
    "male = Gender == 1\n",
    "female = Gender == 2\n",
    "unreportedGender = Gender == -1\n",
    "fulltime = OccupStat == 1\n",
    "notfulltime = OccupStat != 1\n",
    "\n",
    "# Removing some observations\n",
    "exclude = ((Choice == -1) + ((CarAvail == 3) * (Choice == 1))) != 0\n",
    "database.remove(exclude)\n",
    "\n",
    "# List of parameters to be estimated\n",
    "ASC_CAR = Beta('ASC_CAR', 0, None, None, 0)\n",
    "ASC_SM = Beta('ASC_SM', 0, None, None, 0)\n",
    "BETA_TIME_FULLTIME = Beta('BETA_TIME_FULLTIME', 0, None, None, 0)\n",
    "BETA_TIME_OTHER = Beta('BETA_TIME_OTHER', 0, None, None, 0)\n",
    "BETA_DIST_MALE = Beta('BETA_DIST_MALE', 0, None, None, 0)\n",
    "BETA_DIST_FEMALE = Beta('BETA_DIST_FEMALE', 0, None, None, 0)\n",
    "BETA_DIST_UNREPORTED = Beta('BETA_DIST_UNREPORTED', 0, None, None, 0)\n",
    "BETA_COST = Beta('BETA_COST', 0, None, None, 0)\n",
    "\n",
    "# Definition of utility functions:\n",
    "V_PT = BETA_TIME_FULLTIME * TimePT_scaled * fulltime + \\\n",
    "    BETA_TIME_OTHER * TimePT_scaled * notfulltime + \\\n",
    "    BETA_COST * MarginalCostPT_scaled\n",
    "V_CAR = ASC_CAR + \\\n",
    "    BETA_TIME_FULLTIME * TimeCar_scaled * fulltime + \\\n",
    "    BETA_TIME_OTHER * TimeCar_scaled * notfulltime + \\\n",
    "    BETA_COST * CostCarCHF_scaled\n",
    "V_SM = ASC_SM + \\\n",
    "    BETA_DIST_MALE * distance_km_scaled * male + \\\n",
    "    BETA_DIST_FEMALE * distance_km_scaled * female + \\\n",
    "    BETA_DIST_UNREPORTED * distance_km_scaled * unreportedGender\n",
    "\n",
    "# Associate utility functions with the numbering of alternatives\n",
    "V = {0: V_PT,\n",
    "     1: V_CAR,\n",
    "     2: V_SM}\n",
    "\n",
    "# The choice model is a logit, without availability conditions\n",
    "logprob = models.loglogit(V, None, Choice)\n",
    "\n",
    "# Create the Biogeme object\n",
    "biogeme = bio.BIOGEME(database, logprob)\n",
    "biogeme.modelName = 'v715_optima_model'\n",
    "\n",
    "# Estimate the parameters\n",
    "results = biogeme.estimate()\n",
    "\n",
    "# Get the results in a pandas table\n",
    "pandasResults = results.getEstimatedParameters()\n",
    "print(pandasResults)"
   ]
  },
  {
   "cell_type": "code",
   "execution_count": 2,
   "metadata": {},
   "outputs": [
    {
     "name": "stdout",
     "output_type": "stream",
     "text": [
      "\n",
      "Results for model v715_optima_model\n",
      "Output file (HTML):\t\t\tv715_optima_model.html\n",
      "Nbr of parameters:\t\t8\n",
      "Sample size:\t\t\t1899\n",
      "Excluded data:\t\t\t366\n",
      "Init log likelihood:\t\t-2086.265\n",
      "Final log likelihood:\t\t-1299.017\n",
      "Likelihood ratio test:\t\t1574.495\n",
      "Rho square:\t\t\t0.377\n",
      "Rho bar square:\t\t\t0.374\n",
      "Akaike Information Criterion:\t2614.034\n",
      "Bayesian Information Criterion:\t2658.427\n",
      "Final gradient norm:\t\t0.007507272\n",
      "ASC_CAR        : 0.296[0.0878 3.38 0.000735][0.1 2.96 0.00305]\n",
      "ASC_SM         : -0.0206[0.169 -0.122 0.903][0.291 -0.0707 0.944]\n",
      "BETA_COST      : -0.763[0.0756 -10.1 0][0.14 -5.43 5.55e-08]\n",
      "BETA_DIST_FEMALE: -1.11[0.136 -8.16 4.44e-16][0.284 -3.92 8.79e-05]\n",
      "BETA_DIST_MALE : -0.92[0.108 -8.48 0][0.271 -3.4 0.000686]\n",
      "BETA_DIST_UNREPORTED: -0.912[0.257 -3.55 0.000392][0.275 -3.32 0.000897]\n",
      "BETA_TIME_FULLTIME: -1.62[0.321 -5.04 4.54e-07][0.339 -4.78 1.72e-06]\n",
      "BETA_TIME_OTHER: -0.509[0.267 -1.91 0.0564][0.299 -1.7 0.0889]\n",
      "('ASC_SM', 'ASC_CAR'):\t0.00553\t0.374\t-2\t0.0455\t0.00157\t0.0538\t-1.05\t0.295\n",
      "('BETA_COST', 'ASC_CAR'):\t0.000493\t0.0743\t-9.5\t0\t0.00245\t0.175\t-6.72\t1.77e-11\n",
      "('BETA_COST', 'ASC_SM'):\t0.000667\t0.0523\t-4.1\t4.2e-05\t0.00201\t0.0491\t-2.34\t0.0191\n",
      "('BETA_DIST_FEMALE', 'ASC_CAR'):\t0.00101\t0.0846\t-9.04\t0\t0.00489\t0.172\t-4.96\t7.07e-07\n",
      "('BETA_DIST_FEMALE', 'ASC_SM'):\t-0.0118\t-0.514\t-4.11\t4.04e-05\t-0.0643\t-0.779\t-2.01\t0.0439\n",
      "('BETA_DIST_FEMALE', 'BETA_COST'):\t0.000335\t0.0325\t-2.27\t0.0231\t0.00194\t0.0488\t-1.13\t0.26\n",
      "('BETA_DIST_MALE', 'ASC_CAR'):\t0.00106\t0.111\t-9.24\t0\t0.00708\t0.261\t-4.62\t3.81e-06\n",
      "('BETA_DIST_MALE', 'ASC_SM'):\t-0.00979\t-0.535\t-3.68\t0.000235\t-0.0645\t-0.818\t-1.68\t0.0932\n",
      "('BETA_DIST_MALE', 'BETA_COST'):\t0.00036\t0.0439\t-1.21\t0.225\t0.00287\t0.0754\t-0.531\t0.595\n",
      "('BETA_DIST_MALE', 'BETA_DIST_FEMALE'):\t0.00567\t0.383\t1.39\t0.163\t0.047\t0.611\t0.785\t0.432\n",
      "('BETA_DIST_UNREPORTED', 'ASC_CAR'):\t0.001\t0.0443\t-4.51\t6.57e-06\t0.0038\t0.138\t-4.33\t1.49e-05\n",
      "('BETA_DIST_UNREPORTED', 'ASC_SM'):\t-0.00927\t-0.213\t-2.65\t0.00804\t-0.0341\t-0.426\t-1.87\t0.0619\n",
      "('BETA_DIST_UNREPORTED', 'BETA_COST'):\t0.000451\t0.0232\t-0.561\t0.575\t0.00217\t0.0563\t-0.496\t0.62\n",
      "('BETA_DIST_UNREPORTED', 'BETA_DIST_FEMALE'):\t0.00542\t0.154\t0.735\t0.463\t0.0289\t0.371\t0.638\t0.524\n",
      "('BETA_DIST_UNREPORTED', 'BETA_DIST_MALE'):\t0.00453\t0.163\t0.0289\t0.977\t0.03\t0.403\t0.0254\t0.98\n",
      "('BETA_TIME_FULLTIME', 'ASC_CAR'):\t0.0173\t0.613\t-6.94\t3.92e-12\t0.0234\t0.689\t-6.86\t6.7e-12\n",
      "('BETA_TIME_FULLTIME', 'ASC_SM'):\t0.013\t0.24\t-4.92\t8.54e-07\t-0.00162\t-0.0164\t-3.55\t0.000379\n",
      "('BETA_TIME_FULLTIME', 'BETA_COST'):\t-0.00164\t-0.0678\t-2.56\t0.0105\t-0.000766\t-0.0161\t-2.32\t0.0201\n",
      "('BETA_TIME_FULLTIME', 'BETA_DIST_FEMALE'):\t0.00273\t0.0623\t-1.49\t0.137\t0.0159\t0.166\t-1.26\t0.209\n",
      "('BETA_TIME_FULLTIME', 'BETA_DIST_MALE'):\t0.00444\t0.127\t-2.15\t0.0316\t0.0245\t0.267\t-1.88\t0.0605\n",
      "('BETA_TIME_FULLTIME', 'BETA_DIST_UNREPORTED'):\t0.00179\t0.0216\t-1.74\t0.0823\t0.0104\t0.112\t-1.72\t0.0855\n",
      "('BETA_TIME_OTHER', 'ASC_CAR'):\t0.0157\t0.671\t-3.7\t0.000219\t0.022\t0.733\t-3.41\t0.000643\n",
      "('BETA_TIME_OTHER', 'ASC_SM'):\t0.012\t0.267\t-1.78\t0.0757\t0.00329\t0.0378\t-1.19\t0.233\n",
      "('BETA_TIME_OTHER', 'BETA_COST'):\t-0.00342\t-0.169\t0.877\t0.381\t-0.00544\t-0.129\t0.732\t0.464\n",
      "('BETA_TIME_OTHER', 'BETA_DIST_FEMALE'):\t0.00336\t0.0923\t2.09\t0.0364\t0.0119\t0.14\t1.58\t0.115\n",
      "('BETA_TIME_OTHER', 'BETA_DIST_MALE'):\t0.0024\t0.083\t1.47\t0.142\t0.0163\t0.201\t1.14\t0.255\n",
      "('BETA_TIME_OTHER', 'BETA_DIST_UNREPORTED'):\t0.00365\t0.0531\t1.12\t0.264\t0.00994\t0.121\t1.06\t0.29\n",
      "('BETA_TIME_OTHER', 'BETA_TIME_FULLTIME'):\t0.0379\t0.442\t3.54\t0.000402\t0.0549\t0.541\t3.61\t0.000303\n",
      "\n"
     ]
    }
   ],
   "source": [
    "print(results)"
   ]
  },
  {
   "cell_type": "code",
   "execution_count": 6,
   "metadata": {},
   "outputs": [
    {
     "data": {
      "text/plain": [
       "count    1899.000000\n",
       "mean        0.777778\n",
       "std         0.541347\n",
       "min         0.000000\n",
       "25%         0.000000\n",
       "50%         1.000000\n",
       "75%         1.000000\n",
       "max         2.000000\n",
       "Name: Choice, dtype: float64"
      ]
     },
     "execution_count": 6,
     "metadata": {},
     "output_type": "execute_result"
    }
   ],
   "source": [
    "df['Choice'].describe()"
   ]
  },
  {
   "cell_type": "code",
   "execution_count": null,
   "metadata": {},
   "outputs": [],
   "source": []
  }
 ],
 "metadata": {
  "kernelspec": {
   "display_name": "Python 3",
   "language": "python",
   "name": "python3"
  },
  "language_info": {
   "codemirror_mode": {
    "name": "ipython",
    "version": 3
   },
   "file_extension": ".py",
   "mimetype": "text/x-python",
   "name": "python",
   "nbconvert_exporter": "python",
   "pygments_lexer": "ipython3",
   "version": "3.7.3"
  }
 },
 "nbformat": 4,
 "nbformat_minor": 4
}
