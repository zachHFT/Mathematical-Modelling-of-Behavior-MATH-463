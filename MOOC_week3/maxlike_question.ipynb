{
 "cells": [
  {
   "cell_type": "code",
   "execution_count": 8,
   "metadata": {},
   "outputs": [
    {
     "name": "stdout",
     "output_type": "stream",
     "text": [
      "        Value   Std err    t-test       p-value  Rob. Std err  Rob. t-test  \\\n",
      "pi1  0.072222  0.008628  8.370177  0.000000e+00      0.094761     0.762152   \n",
      "pi2  0.050000  0.006571  7.608858  2.775558e-14      0.067175     0.744323   \n",
      "pi3  0.010000  0.004450  2.247333  2.461876e-02      0.014001     0.714249   \n",
      "\n",
      "     Rob. p-value  \n",
      "pi1      0.445970  \n",
      "pi2      0.456681  \n",
      "pi3      0.475073  \n"
     ]
    }
   ],
   "source": [
    "#\n",
    "# This is the minimal Biogeme script file in order to estimate the\n",
    "# parameters of the simple example. The variable \"loglike\" must be\n",
    "# properly defined by replacing the ... by the proper formula.\n",
    "# It is strongly advised to use intermediary variables so that the\n",
    "# code is easier to read and debug.\n",
    "#\n",
    "# Michel Bierlaire\n",
    "# Tue Aug  4 19:46:01 2020\n",
    "#\n",
    "\n",
    "# Import the packages\n",
    "import pandas as pd\n",
    "import biogeme.database as db\n",
    "import biogeme.biogeme as bio\n",
    "from biogeme.expressions import Beta, log\n",
    "\n",
    "pandas = pd.read_table(\"small.dat\")\n",
    "database = db.Database(\"small\", pandas)\n",
    "\n",
    "# Import the name of the columns to be used as variables\n",
    "globals().update(database.variables)\n",
    "\n",
    "# Define the parameters to be estimated\n",
    "pi1 = Beta('pi1', 0.5, 0.0001, 1, 0)\n",
    "pi2 = Beta('pi2', 0.5, 0.0001, 1, 0)\n",
    "pi3 = Beta('pi3', 0.5, 0.0001, 1, 0)\n",
    "\n",
    "# We associate with each observation the relevant parameter, depending\n",
    "# on the value of the variable Age.\n",
    "pi = (Age == 1) * pi1 + (Age == 2) * pi2 + (Age == 3) * pi3\n",
    "\n",
    "\n",
    "# The contribution of each observation to the log likelihood function\n",
    "# must be defined here\n",
    "\n",
    "# The contribution of each observation to the log likelihood function\n",
    "# depends on the value of the variable Electric, and must be applied\n",
    "# as many times as reported by Total.\n",
    "loglike = Total * log(pi) * (Electric == 1) + \\\n",
    "    Total * log(1-pi) * (Electric == 0)\n",
    "\n",
    "# We create an instance of Biogeme, combining the model and the data\n",
    "biogeme  = bio.BIOGEME(database,loglike)\n",
    "biogeme.modelName = \"maxlike\"\n",
    "\n",
    "# We estimate the parameters\n",
    "results = biogeme.estimate()\n",
    "\n",
    "# Get the results in a pandas table\n",
    "pandasResults = results.getEstimatedParameters()\n",
    "print(pandasResults)"
   ]
  },
  {
   "cell_type": "code",
   "execution_count": 6,
   "metadata": {},
   "outputs": [],
   "source": [
    "import biogeme\n",
    "import pandas as pd\n",
    "import biogeme.database as db\n",
    "import biogeme.biogeme as bio\n",
    "import biogeme.models as models\n",
    "import biogeme.version as ver\n",
    "from biogeme.expressions import Beta\n"
   ]
  },
  {
   "cell_type": "code",
   "execution_count": 4,
   "metadata": {},
   "outputs": [
    {
     "data": {
      "text/html": [
       "<div>\n",
       "<style scoped>\n",
       "    .dataframe tbody tr th:only-of-type {\n",
       "        vertical-align: middle;\n",
       "    }\n",
       "\n",
       "    .dataframe tbody tr th {\n",
       "        vertical-align: top;\n",
       "    }\n",
       "\n",
       "    .dataframe thead th {\n",
       "        text-align: right;\n",
       "    }\n",
       "</style>\n",
       "<table border=\"1\" class=\"dataframe\">\n",
       "  <thead>\n",
       "    <tr style=\"text-align: right;\">\n",
       "      <th></th>\n",
       "      <th>Age</th>\n",
       "      <th>Electric</th>\n",
       "      <th>Total</th>\n",
       "    </tr>\n",
       "  </thead>\n",
       "  <tbody>\n",
       "    <tr>\n",
       "      <th>0</th>\n",
       "      <td>1</td>\n",
       "      <td>1</td>\n",
       "      <td>65</td>\n",
       "    </tr>\n",
       "    <tr>\n",
       "      <th>1</th>\n",
       "      <td>1</td>\n",
       "      <td>0</td>\n",
       "      <td>835</td>\n",
       "    </tr>\n",
       "    <tr>\n",
       "      <th>2</th>\n",
       "      <td>2</td>\n",
       "      <td>1</td>\n",
       "      <td>55</td>\n",
       "    </tr>\n",
       "    <tr>\n",
       "      <th>3</th>\n",
       "      <td>2</td>\n",
       "      <td>0</td>\n",
       "      <td>1045</td>\n",
       "    </tr>\n",
       "    <tr>\n",
       "      <th>4</th>\n",
       "      <td>3</td>\n",
       "      <td>1</td>\n",
       "      <td>5</td>\n",
       "    </tr>\n",
       "    <tr>\n",
       "      <th>5</th>\n",
       "      <td>3</td>\n",
       "      <td>0</td>\n",
       "      <td>495</td>\n",
       "    </tr>\n",
       "  </tbody>\n",
       "</table>\n",
       "</div>"
      ],
      "text/plain": [
       "   Age  Electric  Total\n",
       "0    1         1     65\n",
       "1    1         0    835\n",
       "2    2         1     55\n",
       "3    2         0   1045\n",
       "4    3         1      5\n",
       "5    3         0    495"
      ]
     },
     "execution_count": 4,
     "metadata": {},
     "output_type": "execute_result"
    }
   ],
   "source": [
    "df = pd.read_csv('small.dat', '\\t')\n",
    "df"
   ]
  },
  {
   "cell_type": "code",
   "execution_count": null,
   "metadata": {},
   "outputs": [],
   "source": []
  }
 ],
 "metadata": {
  "kernelspec": {
   "display_name": "Python 3",
   "language": "python",
   "name": "python3"
  },
  "language_info": {
   "codemirror_mode": {
    "name": "ipython",
    "version": 3
   },
   "file_extension": ".py",
   "mimetype": "text/x-python",
   "name": "python",
   "nbconvert_exporter": "python",
   "pygments_lexer": "ipython3",
   "version": "3.7.3"
  }
 },
 "nbformat": 4,
 "nbformat_minor": 4
}
