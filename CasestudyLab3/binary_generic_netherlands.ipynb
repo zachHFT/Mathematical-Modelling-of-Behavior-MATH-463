{
 "cells": [
  {
   "cell_type": "code",
   "execution_count": 3,
   "metadata": {},
   "outputs": [
    {
     "name": "stdout",
     "output_type": "stream",
     "text": [
      "           Value  Std err  t-test  p-value  Rob. Std err  Rob. t-test  \\\n",
      "ASC_CAR   -0.798     0.27   -2.95  0.00314         0.275         -2.9   \n",
      "BETA_COST -0.113   0.0232   -4.85 1.21e-06        0.0241        -4.67   \n",
      "BETA_TIME  -1.33    0.344   -3.86 0.000115         0.354        -3.75   \n",
      "\n",
      "           Rob. p-value  \n",
      "ASC_CAR         0.00379  \n",
      "BETA_COST      3.03e-06  \n",
      "BETA_TIME       0.00018  \n",
      "Nbr of observations: 228\n",
      "LL(0) =    -158.038\n",
      "LL(beta) = -123.133\n",
      "rho bar square = 0.202\n",
      "Output file: binary_generic_netherlands~00.html\n"
     ]
    }
   ],
   "source": [
    "# Translated to .py by Yundi Zhang\n",
    "# Jan 2017\n",
    "# Adapted to PandasBiogeme by Michel Bierlaire\n",
    "# Sun Oct 21 22:54:14 2018\n",
    "\n",
    "import pandas as pd\n",
    "import biogeme.database as db\n",
    "import biogeme.biogeme as bio\n",
    "from biogeme.expressions import Beta, DefineVariable\n",
    "from biogeme.models import loglogit\n",
    "\n",
    "pandas = pd.read_table(\"netherlands.dat\")\n",
    "database = db.Database(\"netherlands\",pandas)\n",
    "pd.options.display.float_format = '{:.3g}'.format\n",
    "\n",
    "globals().update(database.variables)\n",
    "\n",
    "exclude = sp != 0\n",
    "database.remove(exclude)\n",
    "\n",
    "\n",
    "# Parameters to be estimated\n",
    "# Arguments:\n",
    "#   1  Name for report. Typically, the same as the variable\n",
    "#   2  Starting value\n",
    "#   3  Lower bound\n",
    "#   4  Upper bound\n",
    "#   5  0: estimate the parameter, 1: keep it fixed\n",
    "ASC_CAR\t\t = Beta('ASC_CAR',0,None,None,0)\n",
    "ASC_RAIL\t = Beta('ASC_RAIL',0,None,None,1)\n",
    "BETA_COST\t = Beta('BETA_COST',0,None,None,0)\n",
    "BETA_TIME\t = Beta('BETA_TIME',0,None,None,0)\n",
    "\n",
    "# Define here arithmetic expressions for name that are not directly available from the data\n",
    "rail_time  = DefineVariable('rail_time',(  rail_ivtt   +  rail_acc_time   ) +  rail_egr_time  ,database)\n",
    "car_time  = DefineVariable('car_time', car_ivtt   +  car_walk_time  ,database)\n",
    "rate_G2E = DefineVariable('rate_G2E', 0.44378022,database)\n",
    "car_cost_euro = DefineVariable('car_cost_euro', car_cost * rate_G2E,database)\n",
    "rail_cost_euro = DefineVariable('rail_cost_euro', rail_cost * rate_G2E,database)\n",
    "\n",
    "# Utilities\n",
    "Car = ASC_CAR  + BETA_COST * car_cost_euro + BETA_TIME * car_time\n",
    "Rail = ASC_RAIL + BETA_COST * rail_cost_euro + BETA_TIME * rail_time\n",
    "V = {0: Car,1: Rail}\n",
    "av = {0: 1,1: 1}\n",
    "\n",
    "# The choice model is a logit, with availability conditions\n",
    "logprob = loglogit(V,av,choice)\n",
    "biogeme  = bio.BIOGEME(database,logprob)\n",
    "biogeme.modelName = \"binary_generic_netherlands\"\n",
    "results = biogeme.estimate()\n",
    "\n",
    "# Get the results in a pandas table\n",
    "pandasResults = results.getEstimatedParameters()\n",
    "print(pandasResults)\n",
    "print(f\"Nbr of observations: {database.getNumberOfObservations()}\")\n",
    "print(f\"LL(0) =    {results.data.initLogLike:.3f}\")\n",
    "print(f\"LL(beta) = {results.data.logLike:.3f}\")\n",
    "print(f\"rho bar square = {results.data.rhoBarSquare:.3g}\")\n",
    "print(f\"Output file: {results.data.htmlFileName}\")"
   ]
  },
  {
   "cell_type": "code",
   "execution_count": null,
   "metadata": {},
   "outputs": [],
   "source": []
  },
  {
   "cell_type": "code",
   "execution_count": null,
   "metadata": {},
   "outputs": [],
   "source": []
  }
 ],
 "metadata": {
  "kernelspec": {
   "display_name": "Python 3",
   "language": "python",
   "name": "python3"
  },
  "language_info": {
   "codemirror_mode": {
    "name": "ipython",
    "version": 3
   },
   "file_extension": ".py",
   "mimetype": "text/x-python",
   "name": "python",
   "nbconvert_exporter": "python",
   "pygments_lexer": "ipython3",
   "version": "3.8.5"
  }
 },
 "nbformat": 4,
 "nbformat_minor": 2
}
