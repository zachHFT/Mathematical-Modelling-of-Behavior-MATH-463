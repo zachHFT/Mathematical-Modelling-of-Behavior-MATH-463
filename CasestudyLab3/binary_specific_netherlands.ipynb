{
 "cells": [
  {
   "cell_type": "code",
   "execution_count": 1,
   "metadata": {},
   "outputs": [
    {
     "name": "stdout",
     "output_type": "stream",
     "text": [
      "                Value  Std err  t-test  p-value  Rob. Std err  Rob. t-test  \\\n",
      "ASC_CAR          2.43     1.06     2.3   0.0216         0.973          2.5   \n",
      "BETA_COST      -0.123   0.0243   -5.04  4.6e-07        0.0256        -4.79   \n",
      "BETA_TIME_CAR   -2.26    0.479   -4.72  2.3e-06         0.485        -4.66   \n",
      "BETA_TIME_RAIL -0.543    0.417    -1.3    0.193         0.396        -1.37   \n",
      "\n",
      "                Rob. p-value  \n",
      "ASC_CAR               0.0125  \n",
      "BETA_COST           1.71e-06  \n",
      "BETA_TIME_CAR       3.13e-06  \n",
      "BETA_TIME_RAIL          0.17  \n",
      "Nbr of observations: 228\n",
      "LL(0) =    -158.038\n",
      "LL(beta) = -118.023\n",
      "rho bar square = 0.228\n",
      "Output file: binary_generic_netherlands.html\n"
     ]
    }
   ],
   "source": [
    "# Translated to .py by Yundi Zhang\n",
    "# Jan 2017\n",
    "# Adapted to PandasBiogeme by Michel Bierlaire\n",
    "# Sun Oct 21 22:54:14 2018\n",
    "\n",
    "import pandas as pd\n",
    "import biogeme.database as db\n",
    "import biogeme.biogeme as bio\n",
    "from biogeme.expressions import Beta, DefineVariable\n",
    "from biogeme.models import loglogit\n",
    "\n",
    "pandas = pd.read_table(\"netherlands.dat\")\n",
    "database = db.Database(\"netherlands\",pandas)\n",
    "pd.options.display.float_format = '{:.3g}'.format\n",
    "\n",
    "globals().update(database.variables)\n",
    "\n",
    "exclude = sp != 0\n",
    "database.remove(exclude)\n",
    "\n",
    "\n",
    "# Parameters to be estimated\n",
    "# Arguments:\n",
    "#   1  Name for report. Typically, the same as the variable\n",
    "#   2  Starting value\n",
    "#   3  Lower bound\n",
    "#   4  Upper bound\n",
    "#   5  0: estimate the parameter, 1: keep it fixed\n",
    "ASC_CAR\t\t = Beta('ASC_CAR',0,None,None,0)\n",
    "#we do not estimate ASC_RAIL and leave it to its initial value, here it is 0 (the second parameter within the parenthesis)\n",
    "ASC_RAIL\t = Beta('ASC_RAIL',0,None,None,1)\n",
    "BETA_COST\t = Beta('BETA_COST',0,None,None,0)\n",
    "BETA_TIME_CAR\t = Beta('BETA_TIME_CAR',0,None,None,0)\n",
    "BETA_TIME_RAIL\t = Beta('BETA_TIME_RAIL',0,None,None,0)\n",
    "\n",
    "# Define here arithmetic expressions for name that are not directly available from the data\n",
    "rail_time  = DefineVariable('rail_time',(  rail_ivtt   +  rail_acc_time   ) +  rail_egr_time  ,database)\n",
    "car_time  = DefineVariable('car_time', car_ivtt   +  car_walk_time  ,database)\n",
    "rate_G2E = DefineVariable('rate_G2E', 0.44378022,database)\n",
    "car_cost_euro = DefineVariable('car_cost_euro', car_cost * rate_G2E,database)\n",
    "rail_cost_euro = DefineVariable('rail_cost_euro', rail_cost * rate_G2E,database)\n",
    "\n",
    "# Utilities\n",
    "Car = ASC_CAR  + BETA_COST * car_cost_euro + BETA_TIME_CAR * car_time\n",
    "Rail = ASC_RAIL + BETA_COST * rail_cost_euro + BETA_TIME_RAIL * rail_time\n",
    "#we associate the utilities functions with the numbering of the alternatives (the one assumed within the datafile)\n",
    "V = {0: Car,1: Rail}\n",
    "#availability conditions, here they both are assumed as available\n",
    "av = {0: 1,1: 1}\n",
    "\n",
    "# The choice model is a logit, with availability conditions\n",
    "logprob = loglogit(V,av,choice)\n",
    "biogeme  = bio.BIOGEME(database,logprob)\n",
    "biogeme.modelName = \"binary_generic_netherlands\"\n",
    "results = biogeme.estimate()\n",
    "\n",
    "# Get the results in a pandas table\n",
    "pandasResults = results.getEstimatedParameters()\n",
    "print(pandasResults)\n",
    "print(f\"Nbr of observations: {database.getNumberOfObservations()}\")\n",
    "print(f\"LL(0) =    {results.data.initLogLike:.3f}\")\n",
    "print(f\"LL(beta) = {results.data.logLike:.3f}\")\n",
    "print(f\"rho bar square = {results.data.rhoBarSquare:.3g}\")\n",
    "print(f\"Output file: {results.data.htmlFileName}\")"
   ]
  },
  {
   "cell_type": "code",
   "execution_count": null,
   "metadata": {},
   "outputs": [],
   "source": []
  }
 ],
 "metadata": {
  "kernelspec": {
   "display_name": "Python 3",
   "language": "python",
   "name": "python3"
  },
  "language_info": {
   "codemirror_mode": {
    "name": "ipython",
    "version": 3
   },
   "file_extension": ".py",
   "mimetype": "text/x-python",
   "name": "python",
   "nbconvert_exporter": "python",
   "pygments_lexer": "ipython3",
   "version": "3.7.3"
  }
 },
 "nbformat": 4,
 "nbformat_minor": 4
}
