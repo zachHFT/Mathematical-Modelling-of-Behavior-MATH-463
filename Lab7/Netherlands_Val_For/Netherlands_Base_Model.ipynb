{
 "cells": [
  {
   "cell_type": "code",
   "execution_count": null,
   "metadata": {
    "ExecuteTime": {
     "end_time": "2019-10-31T13:30:28.593734Z",
     "start_time": "2019-10-31T13:30:28.355423Z"
    },
    "tags": []
   },
   "outputs": [],
   "source": [
    "# Updated 05.10.2020\n",
    "\n",
    "import pandas as pd\n",
    "import biogeme.database as db\n",
    "import biogeme.biogeme as bio\n",
    "from biogeme.expressions import Beta, DefineVariable\n",
    "from biogeme.models import loglogit\n",
    "\n",
    "pandas = pd.read_table(\"netherlandsRP.dat\")\n",
    "database = db.Database(\"netherlands\",pandas)\n",
    "pd.options.display.float_format = '{:.3g}'.format\n",
    "\n",
    "globals().update(database.variables)\n",
    "\n",
    "#Parameters to be estimated\n",
    "# Arguments:\n",
    "#   1  Name for report. Typically, the same as the variable\n",
    "#   2  Starting value\n",
    "#   3  Lower bound\n",
    "#   4  Upper bound\n",
    "#   5  0: estimate the parameter, 1: keep it fixed\n",
    "ASC_CAR = Beta('ASC_CAR',0,-10,10,0)\n",
    "ASC_RAIL = Beta('ASC_RAIL',0,-10,10,1)\n",
    "BETA_TIME_RAIL = Beta('BETA_TIME_RAIL',0,-10,10,0)\n",
    "BETA_TIME_CAR = Beta('BETA_TIME_CAR',0,-10,10,0)\n",
    "BETA_COST_AGE1 = Beta('BETA_COST_AGE1',0,-10,10,0)\n",
    "BETA_COST_AGE2 = Beta('BETA_COST_AGE2',0,-10,10,0)\n",
    "BETA_FEMALE = Beta('BETA_FEMALE',0,-10,10,0)\n",
    "BETA_FIXED_ARRIVAL_TIME = Beta('BETA_FIXED_ARRIVAL_TIME',0,-10,10,0)\n",
    "\n",
    "# Define here arithmetic expressions for name that are not directly available from the dataxpressions for name that are not directly available from the data\n",
    "rail_time  = DefineVariable('rail_time',rail_ivtt + rail_acc_time + rail_egr_time, database)\n",
    "car_time = DefineVariable('car_time',car_ivtt + car_walk_time, database)\n",
    "\n",
    "rate_G2E  = DefineVariable('rate_G2E',0.44378022,database) #from Guilders to euros\n",
    "car_cost_euro  = DefineVariable('car_cost_euro',car_cost * rate_G2E,database)\n",
    "rail_cost_euro  = DefineVariable('rail_cost_euro', rail_cost * rate_G2E,database)\n",
    "\n",
    "age1 = DefineVariable('age1',(age == 0), database) #40 years or younger\n",
    "age2 = DefineVariable('age2',(age == 1), database) #41 years or older\n",
    "employed = DefineVariable('employed',(employ_status == 0), database)\n",
    "\n",
    "# Utilities\n",
    "V_CAR = ASC_CAR + BETA_TIME_CAR * car_time + BETA_COST_AGE1 * car_cost_euro * age1 + BETA_COST_AGE2 * car_cost_euro  * age2\n",
    "V_RAIL = BETA_TIME_RAIL * rail_time + BETA_COST_AGE1 * rail_cost_euro * age1 + BETA_COST_AGE2 * rail_cost_euro * age2 + BETA_FEMALE * gender + BETA_FIXED_ARRIVAL_TIME * arrival_time\n",
    "\n",
    "V = {0: V_CAR, 1: V_RAIL}\n",
    "av = {0: 1,1: 1}\n",
    "\n",
    "\n",
    "logprob = loglogit(V,av,choice)\n",
    "biogeme  = bio.BIOGEME(database,logprob)\n",
    "biogeme.modelName = \"Netherlands_Base_Model\"\n",
    "results = biogeme.estimate()\n",
    "\n",
    "# Get the results in a pandas table\n",
    "pandasResults = results.getEstimatedParameters()\n",
    "display(pandasResults)\n",
    "print(f\"Nbr of observations: {database.getNumberOfObservations()}\")\n",
    "print(f\"LL(0) =    {results.data.initLogLike:.3f}\")\n",
    "print(f\"LL(beta) = {results.data.logLike:.3f}\")\n",
    "print(f\"rho bar square = {results.data.rhoBarSquare:.3g}\")\n",
    "print(f\"Output file: {results.data.htmlFileName}\")"
   ]
  },
  {
   "cell_type": "code",
   "execution_count": null,
   "metadata": {},
   "outputs": [],
   "source": []
  }
 ],
 "metadata": {
  "kernelspec": {
   "display_name": "Python 3",
   "language": "python",
   "name": "python3"
  },
  "language_info": {
   "codemirror_mode": {
    "name": "ipython",
    "version": 3
   },
   "file_extension": ".py",
   "mimetype": "text/x-python",
   "name": "python",
   "nbconvert_exporter": "python",
   "pygments_lexer": "ipython3",
   "version": "3.8.5-final"
  },
  "varInspector": {
   "cols": {
    "lenName": 16,
    "lenType": 16,
    "lenVar": 40
   },
   "kernels_config": {
    "python": {
     "delete_cmd_postfix": "",
     "delete_cmd_prefix": "del ",
     "library": "var_list.py",
     "varRefreshCmd": "print(var_dic_list())"
    },
    "r": {
     "delete_cmd_postfix": ") ",
     "delete_cmd_prefix": "rm(",
     "library": "var_list.r",
     "varRefreshCmd": "cat(var_dic_list()) "
    }
   },
   "types_to_exclude": [
    "module",
    "function",
    "builtin_function_or_method",
    "instance",
    "_Feature"
   ],
   "window_display": false
  }
 },
 "nbformat": 4,
 "nbformat_minor": 2
}