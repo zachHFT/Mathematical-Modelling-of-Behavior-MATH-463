{
 "cells": [
  {
   "cell_type": "code",
   "execution_count": null,
   "metadata": {
    "ExecuteTime": {
     "end_time": "2019-11-09T15:31:48.417522Z",
     "start_time": "2019-11-09T15:31:47.468072Z"
    }
   },
   "outputs": [],
   "source": [
    "# Updated 05.10.2020\n",
    "\n",
    "import pandas as pd\n",
    "import biogeme.database as db\n",
    "import biogeme.biogeme as bio\n",
    "from biogeme.expressions import Beta, DefineVariable\n",
    "import biogeme.results as res\n",
    "from biogeme.models import logit\n",
    "\n",
    "pandas = pd.read_table(\"netherlandsRP_w.dat\")\n",
    "database = db.Database(\"netherlands\",pandas)\n",
    "pd.options.display.float_format = '{:.3g}'.format\n",
    "\n",
    "globals().update(database.variables)\n"
   ]
  },
  {
   "cell_type": "code",
   "execution_count": null,
   "metadata": {
    "ExecuteTime": {
     "end_time": "2019-11-09T15:31:48.990979Z",
     "start_time": "2019-11-09T15:31:48.980216Z"
    }
   },
   "outputs": [],
   "source": [
    "#WEIGHT NORMALIZATION\n",
    "sumWeights = database.data['Weights'].sum()\n",
    "S= database.getSampleSize()\n",
    "sampleNormalizedWeight = Weights * S / sumWeights"
   ]
  },
  {
   "cell_type": "code",
   "execution_count": null,
   "metadata": {
    "ExecuteTime": {
     "end_time": "2019-11-09T15:31:50.008744Z",
     "start_time": "2019-11-09T15:31:49.940077Z"
    }
   },
   "outputs": [],
   "source": [
    "#MODEL SPECIFICATION (from estimation file)\n",
    "ASC_CAR = Beta('ASC_CAR',0,-10,10,0)\n",
    "ASC_RAIL = Beta('ASC_RAIL',0,-10,10,1)\n",
    "BETA_TIME_RAIL = Beta('BETA_TIME_RAIL',0,-10,10,0)\n",
    "BETA_TIME_CAR = Beta('BETA_TIME_CAR',0,-10,10,0)\n",
    "BETA_COST_AGE1 = Beta('BETA_COST_AGE1',0,-10,10,0)\n",
    "BETA_COST_AGE2 = Beta('BETA_COST_AGE2',0,-10,10,0)\n",
    "BETA_FEMALE = Beta('BETA_FEMALE',0,-10,10,0)\n",
    "BETA_FIXED_ARRIVAL_TIME = Beta('BETA_FIXED_ARRIVAL_TIME',0,-10,10,0)\n",
    "\n",
    "rail_time  = DefineVariable('rail_time',rail_ivtt + rail_acc_time + rail_egr_time, database)\n",
    "car_time = DefineVariable('car_time',car_ivtt + car_walk_time, database)\n",
    "\n",
    "rate_G2E  = DefineVariable('rate_G2E',0.44378022,database) #from Guilders to euros\n",
    "car_cost_euro  = DefineVariable('car_cost_euro',car_cost * rate_G2E,database)\n",
    "rail_cost_euro  = DefineVariable('rail_cost_euro', rail_cost * rate_G2E,database)\n",
    "\n",
    "age1 = DefineVariable('age1',(age == 0), database) #40 years or younger\n",
    "age2 = DefineVariable('age2',(age == 1), database) #41 years or older\n",
    "employed = DefineVariable('employed',(employ_status == 0), database)\n",
    "\n",
    "# Utilities\n",
    "V_CAR = ASC_CAR + BETA_TIME_CAR * car_time + BETA_COST_AGE1 * car_cost_euro * age1 + BETA_COST_AGE2 * car_cost_euro  * age2\n",
    "V_RAIL = BETA_TIME_RAIL * rail_time + BETA_COST_AGE1 * rail_cost_euro * age1 + BETA_COST_AGE2 * rail_cost_euro * age2 + BETA_FEMALE * gender + BETA_FIXED_ARRIVAL_TIME * arrival_time\n",
    "\n",
    "V = {0: V_CAR, 1: V_RAIL}\n",
    "av = {0: 1,1: 1}"
   ]
  },
  {
   "cell_type": "code",
   "execution_count": null,
   "metadata": {
    "ExecuteTime": {
     "end_time": "2019-11-09T15:31:50.965003Z",
     "start_time": "2019-11-09T15:31:50.831787Z"
    },
    "tags": []
   },
   "outputs": [],
   "source": [
    "#SIMULATION\n",
    "prob_car = logit(V,av,0)\n",
    "prob_rail = logit(V,av,1)\n",
    "\n",
    "simulate = {\n",
    "'Weighted prob. car': sampleNormalizedWeight * prob_car,\n",
    "'Weighted prob. rail': sampleNormalizedWeight * prob_rail,\n",
    "'Prob. car': prob_car,\n",
    "'Prob. rail': prob_rail\n",
    "}\n",
    "\n",
    "biogeme = bio.BIOGEME(database, simulate)\n",
    "biogeme.modelName = \"Netherlands_Base_Simul\"\n",
    "\n",
    "betas = biogeme.freeBetaNames\n",
    "results = res.bioResults(pickleFile = 'Netherlands_Base_Model.pickle')\n",
    "betaValues = results.getBetaValues()\n",
    "\n",
    "simulatedValues = biogeme.simulate(betaValues)\n",
    "\n",
    "marketShare_car = 100 * simulatedValues['Weighted prob. car'].mean()\n",
    "marketShare_rail = 100 * simulatedValues['Weighted prob. rail'].mean()\n",
    "\n",
    "print('Market share car: {} %'.format(marketShare_car))\n",
    "print('Market share rail: {} %'.format(marketShare_rail))\n",
    "\n",
    "simulatedValues['simulated choice'] = simulatedValues.apply(lambda row: int(row['Prob. rail'] > 0.5), axis = 1) \n",
    "diff = simulatedValues['simulated choice'] - pandas.choice\n",
    "\n",
    "sim_car_real_rail = 100*len(diff[diff < 0].index)/S\n",
    "sim_rail_real_car = 100*len(diff[diff > 0].index)/S\n",
    "\n",
    "print('Share of users choosing car with a higher probability for rail: {} %'.format(sim_rail_real_car))\n",
    "print('Share of users choosing rail with a higher probability for car: {} %'.format(sim_car_real_rail))"
   ]
  },
  {
   "cell_type": "code",
   "execution_count": null,
   "metadata": {},
   "outputs": [],
   "source": []
  }
 ],
 "metadata": {
  "kernelspec": {
   "display_name": "Python 3",
   "language": "python",
   "name": "python3"
  },
  "language_info": {
   "codemirror_mode": {
    "name": "ipython",
    "version": 3
   },
   "file_extension": ".py",
   "mimetype": "text/x-python",
   "name": "python",
   "nbconvert_exporter": "python",
   "pygments_lexer": "ipython3",
   "version": "3.8.5-final"
  },
  "varInspector": {
   "cols": {
    "lenName": 16,
    "lenType": 16,
    "lenVar": 40
   },
   "kernels_config": {
    "python": {
     "delete_cmd_postfix": "",
     "delete_cmd_prefix": "del ",
     "library": "var_list.py",
     "varRefreshCmd": "print(var_dic_list())"
    },
    "r": {
     "delete_cmd_postfix": ") ",
     "delete_cmd_prefix": "rm(",
     "library": "var_list.r",
     "varRefreshCmd": "cat(var_dic_list()) "
    }
   },
   "types_to_exclude": [
    "module",
    "function",
    "builtin_function_or_method",
    "instance",
    "_Feature"
   ],
   "window_display": false
  }
 },
 "nbformat": 4,
 "nbformat_minor": 2
}