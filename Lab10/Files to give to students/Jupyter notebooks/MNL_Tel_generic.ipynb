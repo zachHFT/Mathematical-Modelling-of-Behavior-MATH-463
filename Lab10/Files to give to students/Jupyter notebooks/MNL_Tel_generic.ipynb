{
 "cells": [
  {
   "cell_type": "code",
   "execution_count": null,
   "metadata": {
    "ExecuteTime": {
     "end_time": "2019-09-20T09:20:26.462494Z",
     "start_time": "2019-09-20T09:20:26.313390Z"
    }
   },
   "outputs": [],
   "source": [
    "import pandas as pd\n",
    "import biogeme.database as db\n",
    "import biogeme.biogeme as bio\n",
    "from biogeme.expressions import Beta, DefineVariable, log\n",
    "from biogeme.models import loglogit\n",
    "from biogeme.expressions import Beta, DefineVariable, log\n",
    "\n",
    "pandas = pd.read_table(\"telephone.dat\")\n",
    "database = db.Database(\"telephone\",pandas)\n",
    "pd.options.display.float_format = '{:.3g}'.format\n",
    "\n",
    "globals().update(database.variables)\n",
    "\n",
    "#Parameters to be estimated\n",
    "# Arguments:\n",
    "#   1  Name for report. Typically, the same as the variable\n",
    "#   2  Starting value\n",
    "#   3  Lower bound\n",
    "#   4  Upper bound\n",
    "#   5  0: estimate the parameter, 1: keep it fixed\n",
    "ASC_BM\t = Beta('ASC_BM',0,None,None,0)\n",
    "ASC_SM\t = Beta('ASC_SM',0,None,None,1)\n",
    "ASC_LF\t = Beta('ASC_LF',0,None,None,0)\n",
    "ASC_EF\t = Beta('ASC_EF',0,None,None,0)\n",
    "ASC_MF\t = Beta('ASC_MF',0,None,None,0)\n",
    "B_COST\t = Beta('B_COST',0,None,None,0)\n",
    "\n",
    "# Define here arithmetic expressions for name that are not directly\n",
    "# available from the data\n",
    "\n",
    "logcostBM  = DefineVariable('logcostBM', log(cost1),database)\n",
    "logcostSM  = DefineVariable('logcostSM', log(cost2),database)\n",
    "logcostLF  = DefineVariable('logcostLF', log(cost3),database)\n",
    "logcostEF  = DefineVariable('logcostEF', log(cost4),database)\n",
    "logcostMF  = DefineVariable('logcostMF', log(cost5),database)\n",
    "\n",
    "#Utilities\n",
    "V_BM = ASC_BM + B_COST * logcostBM\n",
    "V_SM = ASC_SM + B_COST * logcostSM\n",
    "V_LF = ASC_LF + B_COST * logcostLF\n",
    "V_EF = ASC_EF + B_COST * logcostEF\n",
    "V_MF = ASC_MF + B_COST * logcostMF\n",
    "\n",
    "V = {1: V_BM, 2: V_SM, 3: V_LF, 4: V_EF, 5: V_MF}\n",
    "avail = {1: avail1, 2: avail2, 3: avail3, 4: avail4, 5: avail5}\n",
    "\n",
    "# The choice model is a logit, with availability conditions\n",
    "logprob = loglogit(V,avail,choice)\n",
    "biogeme  = bio.BIOGEME(database,logprob)\n",
    "biogeme.modelName = \"MNL_Tel_generic\"\n",
    "results = biogeme.estimate()\n",
    "\n",
    "# Get the results in a pandas table\n",
    "pandasResults = results.getEstimatedParameters()\n",
    "display(pandasResults)\n",
    "print(f\"Nbr of observations: {database.getNumberOfObservations()}\")\n",
    "print(f\"LL(0) =    {results.data.initLogLike:.3f}\")\n",
    "print(f\"LL(beta) = {results.data.logLike:.3f}\")\n",
    "print(f\"rho bar square = {results.data.rhoBarSquare:.3g}\")\n",
    "print(f\"Output file: {results.data.htmlFileName}\")\n",
    "\n"
   ]
  },
  {
   "cell_type": "code",
   "execution_count": null,
   "metadata": {},
   "outputs": [],
   "source": []
  }
 ],
 "metadata": {
  "kernelspec": {
   "display_name": "Python 3",
   "language": "python",
   "name": "python3"
  },
  "language_info": {
   "codemirror_mode": {
    "name": "ipython",
    "version": 3
   },
   "file_extension": ".py",
   "mimetype": "text/x-python",
   "name": "python",
   "nbconvert_exporter": "python",
   "pygments_lexer": "ipython3",
   "version": "3.7.4"
  },
  "varInspector": {
   "cols": {
    "lenName": 16,
    "lenType": 16,
    "lenVar": 40
   },
   "kernels_config": {
    "python": {
     "delete_cmd_postfix": "",
     "delete_cmd_prefix": "del ",
     "library": "var_list.py",
     "varRefreshCmd": "print(var_dic_list())"
    },
    "r": {
     "delete_cmd_postfix": ") ",
     "delete_cmd_prefix": "rm(",
     "library": "var_list.r",
     "varRefreshCmd": "cat(var_dic_list()) "
    }
   },
   "types_to_exclude": [
    "module",
    "function",
    "builtin_function_or_method",
    "instance",
    "_Feature"
   ],
   "window_display": false
  }
 },
 "nbformat": 4,
 "nbformat_minor": 2
}
